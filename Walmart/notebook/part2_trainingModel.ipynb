{
 "cells": [
  {
   "cell_type": "markdown",
   "metadata": {},
   "source": [
    "# Walmart Project\n",
    "Analysis walmart sales dataset for business decision need. This project is in jedha certfication #block3\n",
    "\n",
    "**Part 2:** : Model training"
   ]
  },
  {
   "cell_type": "markdown",
   "metadata": {},
   "source": [
    "Once you've trained a first model, don't forget to assess its performances on the train and test sets. Are you satisfied with the results ?\n",
    "Besides, it would be interesting to analyze the values of the model's coefficients to know what features are important for the prediction. To do so, the `.coef_` attribute of scikit-learn's LinearRegression class might be useful. Please refer to the following link for more information 😉 https://scikit-learn.org/stable/modules/generated/sklearn.linear_model.LinearRegression.html"
   ]
  },
  {
   "cell_type": "code",
   "execution_count": 15,
   "metadata": {},
   "outputs": [],
   "source": [
    "# import \n",
    "import os \n",
    "import json\n",
    "import pickle\n",
    "import numpy as np\n",
    "import pandas as pd\n",
    "from IPython.display import display\n",
    "\n",
    "from sklearn.metrics import accuracy_score, mean_absolute_error, mean_squared_error\n",
    "from sklearn.linear_model import LinearRegression"
   ]
  },
  {
   "cell_type": "markdown",
   "metadata": {},
   "source": [
    "### Load data"
   ]
  },
  {
   "cell_type": "code",
   "execution_count": 21,
   "metadata": {},
   "outputs": [
    {
     "data": {
      "text/plain": [
       "array([[ 0.04260362, -1.26840641, -0.55534542, -1.1763434 ,  0.74406169,\n",
       "        -1.10466577, -2.03634567,  0.        ,  0.        ,  0.        ,\n",
       "         0.        ,  0.        ,  0.        ,  0.        ,  0.        ,\n",
       "         0.        ,  0.        ,  0.        ,  0.        ,  0.        ,\n",
       "         1.        ,  0.        ,  0.        ,  0.        ,  0.        ,\n",
       "         0.        ],\n",
       "       [ 0.4592769 ,  0.58058829, -2.12734441,  1.47042924,  1.06485475,\n",
       "         0.43473943,  0.19639882,  0.        ,  0.        ,  0.        ,\n",
       "         1.        ,  0.        ,  0.        ,  0.        ,  0.        ,\n",
       "         0.        ,  0.        ,  0.        ,  0.        ,  0.        ,\n",
       "         0.        ,  0.        ,  0.        ,  0.        ,  0.        ,\n",
       "         0.        ],\n",
       "       [-1.5681943 ,  0.98891668,  0.42633859,  0.14704292, -1.18069669,\n",
       "         1.20444204,  0.19639882,  0.        ,  0.        ,  0.        ,\n",
       "         0.        ,  0.        ,  0.        ,  0.        ,  0.        ,\n",
       "         0.        ,  0.        ,  0.        ,  0.        ,  0.        ,\n",
       "         0.        ,  0.        ,  0.        ,  1.        ,  0.        ,\n",
       "         0.        ]])"
      ]
     },
     "metadata": {},
     "output_type": "display_data"
    },
    {
     "data": {
      "text/plain": [
       "[614253.33, 313358.15, 1266564.94]"
      ]
     },
     "metadata": {},
     "output_type": "display_data"
    }
   ],
   "source": [
    "# helper function : load_pickle_array\n",
    "def load_pickle_array(file_name) :\n",
    "    file = open(file_name, 'rb')\n",
    "\n",
    "    # dump information to that file\n",
    "    narray = pickle.load(file)\n",
    "\n",
    "    # close the file\n",
    "    file.close()\n",
    "\n",
    "    return narray\n",
    "\n",
    "\n",
    "# X_train, X_test, Y_train, Y_test\n",
    "X_train = load_pickle_array('../data/temp/X_train_processed.pickle')\n",
    "X_test = load_pickle_array('../data/temp/X_test_processed.pickle')\n",
    "Y_train = load_pickle_array('../data/temp/Y_train.pickle')\n",
    "Y_test = load_pickle_array('../data/temp/Y_test.pickle')\n",
    "X_df = load_pickle_array('../data/temp/Features.pickle')\n",
    "\n",
    "display(X_train[0:3, :])\n",
    "display(Y_train[0:3])\n"
   ]
  },
  {
   "cell_type": "markdown",
   "metadata": {},
   "source": [
    "### Train model"
   ]
  },
  {
   "cell_type": "code",
   "execution_count": 17,
   "metadata": {},
   "outputs": [
    {
     "name": "stdout",
     "output_type": "stream",
     "text": [
      "Training model...\n",
      "...Done.\n"
     ]
    }
   ],
   "source": [
    "# Train model\n",
    "model = LinearRegression()\n",
    "\n",
    "print(\"Training model...\")\n",
    "model.fit(X_train, Y_train) # Training is always done on train set !!\n",
    "print(\"...Done.\")"
   ]
  },
  {
   "cell_type": "code",
   "execution_count": 18,
   "metadata": {},
   "outputs": [
    {
     "name": "stdout",
     "output_type": "stream",
     "text": [
      "Predictions on training set...\n",
      "...Done.\n",
      "[ 629520.08881436  304800.73299578 1317757.85494102  876285.32175938\n",
      " 1585744.31449943]\n",
      "\n"
     ]
    }
   ],
   "source": [
    "# Predictions on training set\n",
    "print(\"Predictions on training set...\")\n",
    "Y_train_pred = model.predict(X_train)\n",
    "print(\"...Done.\")\n",
    "print(Y_train_pred[0:5])\n",
    "print()"
   ]
  },
  {
   "cell_type": "code",
   "execution_count": 19,
   "metadata": {},
   "outputs": [
    {
     "name": "stdout",
     "output_type": "stream",
     "text": [
      "Predictions on test set...\n",
      "...Done.\n",
      "[1569787.1944313   691281.31601519 1881546.82452149 1775871.58436869\n",
      "  358042.40863554]\n",
      "\n"
     ]
    }
   ],
   "source": [
    "# Predictions on test set\n",
    "print(\"Predictions on test set...\")\n",
    "Y_test_pred = model.predict(X_test)\n",
    "print(\"...Done.\")\n",
    "print(Y_test_pred[0:5])\n",
    "print()"
   ]
  },
  {
   "cell_type": "markdown",
   "metadata": {},
   "source": [
    "### Evaluate model"
   ]
  },
  {
   "cell_type": "code",
   "execution_count": 16,
   "metadata": {},
   "outputs": [
    {
     "name": "stdout",
     "output_type": "stream",
     "text": [
      "Accuracy on training set :  78702.67016669104\n",
      "Accuracy on test set :  192723.49454276092\n"
     ]
    }
   ],
   "source": [
    "# Print scores\n",
    "rmse_train = np.sqrt(mean_squared_error(Y_train, Y_train_pred))\n",
    "rmse_test = np.sqrt(mean_squared_error(Y_test, Y_test_pred))\n",
    "\n",
    "print(\"Accuracy on training set : \", rmse_train)\n",
    "print(\"Accuracy on test set : \", rmse_test)"
   ]
  },
  {
   "cell_type": "markdown",
   "metadata": {},
   "source": [
    "### Feature importance"
   ]
  },
  {
   "cell_type": "code",
   "execution_count": 23,
   "metadata": {},
   "outputs": [
    {
     "data": {
      "text/plain": [
       "[('Store', -373.0270261717993),\n",
       " ('Holiday_Flag', -35080.19641466602),\n",
       " ('Temperature', 20981.60862768711),\n",
       " ('Fuel_Price', 18895.41631691908),\n",
       " ('CPI', 17938.68986877118),\n",
       " ('Unemployment', -49288.37846493782),\n",
       " ('Year', -15871.320021697968),\n",
       " ('Month', 237852.89538487836),\n",
       " ('Day', -1170482.7423773822),\n",
       " ('DayOfWeek', 579567.0345226241)]"
      ]
     },
     "execution_count": 23,
     "metadata": {},
     "output_type": "execute_result"
    }
   ],
   "source": [
    "# feature importance\n",
    "list(zip(X_df.columns.to_list(), model.coef_))"
   ]
  }
 ],
 "metadata": {
  "interpreter": {
   "hash": "860170e22e8d177daa3c518b3be15fe45b7ed832245ad77d1e774b71b49e080f"
  },
  "kernelspec": {
   "display_name": "Python 3.8.3 64-bit ('auth': venv)",
   "language": "python",
   "name": "python3"
  },
  "language_info": {
   "codemirror_mode": {
    "name": "ipython",
    "version": 3
   },
   "file_extension": ".py",
   "mimetype": "text/x-python",
   "name": "python",
   "nbconvert_exporter": "python",
   "pygments_lexer": "ipython3",
   "version": "3.8.3"
  },
  "orig_nbformat": 4
 },
 "nbformat": 4,
 "nbformat_minor": 2
}
