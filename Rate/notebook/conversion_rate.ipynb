{
 "cells": [
  {
   "cell_type": "markdown",
   "metadata": {},
   "source": [
    "# Conversion Rate Project\n",
    "Analysis conversion rates dataset for business decision need. This project is in jedha certfication #block3\n",
    "\n",
    "### Purpose : \n",
    "> rate conversion of user subscription; \\\n",
    "> minimal feature importance; \\\n",
    "> f1-score."
   ]
  },
  {
   "cell_type": "markdown",
   "metadata": {},
   "source": [
    "### Challenge : predict conversions 🏆🏆\n",
    "\n",
    "This is the template that shows the different steps of the challenge. In this notebook, all the training/predictions steps are implemented for a very basic model (logistic regression with only one variable). Please use this template and feel free to change the preprocessing/training steps to get the model with the best f1-score !"
   ]
  },
  {
   "cell_type": "code",
   "execution_count": 60,
   "metadata": {},
   "outputs": [
    {
     "name": "stdout",
     "output_type": "stream",
     "text": [
      "The autoreload extension is already loaded. To reload it, use:\n",
      "  %reload_ext autoreload\n"
     ]
    }
   ],
   "source": [
    "# import\n",
    "import os\n",
    "import json\n",
    "import joblib\n",
    "import joblib\n",
    "import numpy as np\n",
    "import pandas as pd\n",
    "import seaborn as sns\n",
    "from module import helper\n",
    "from IPython.display import display\n",
    "\n",
    "from sklearn.model_selection import train_test_split\n",
    "from sklearn.impute import SimpleImputer\n",
    "from sklearn.pipeline import Pipeline\n",
    "from sklearn.preprocessing import OneHotEncoder, StandardScaler, LabelEncoder\n",
    "from sklearn.compose import ColumnTransformer\n",
    "from sklearn.linear_model import LogisticRegression\n",
    "from sklearn.ensemble import RandomForestClassifier\n",
    "from sklearn.model_selection import GridSearchCV\n",
    "from sklearn.metrics import f1_score, confusion_matrix\n",
    "\n",
    "import warnings\n",
    "warnings.filterwarnings(\"ignore\", category=DeprecationWarning)\n",
    "\n",
    "import matplotlib.pyplot as plt\n",
    "import plotly.express as px\n",
    "import plotly.graph_objects as go\n",
    "import plotly.io as pio\n",
    "\n",
    "%load_ext autoreload\n",
    "%autoreload 2"
   ]
  },
  {
   "cell_type": "code",
   "execution_count": 61,
   "metadata": {},
   "outputs": [],
   "source": [
    "# plotly\n",
    "pio.templates[\"jedha\"] = go.layout.Template(\n",
    "    layout_colorway=[\"#4B9AC7\", \"#4BE8E0\", \"#9DD4F3\", \"#97FBF6\", \"#2A7FAF\", \"#23B1AB\", \"#0E3449\", \"#015955\"]\n",
    ")\n",
    "pio.templates.default = \"jedha\"\n",
    "pio.renderers.default = \"svg\""
   ]
  },
  {
   "cell_type": "code",
   "execution_count": 62,
   "metadata": {},
   "outputs": [],
   "source": [
    "# sns \n",
    "color_palette = ['#265952', '#DFCEEB', '#DBDE2F', '#45201E', '#c7ac92', '#a44a3f']\n",
    "sns.set_palette(sns.color_palette(color_palette))"
   ]
  },
  {
   "cell_type": "markdown",
   "metadata": {},
   "source": [
    "## Load data"
   ]
  },
  {
   "cell_type": "code",
   "execution_count": 63,
   "metadata": {},
   "outputs": [
    {
     "name": "stdout",
     "output_type": "stream",
     "text": [
      "Set with labels (our train+test) : (284580, 6)\n"
     ]
    }
   ],
   "source": [
    "# load dataset\n",
    "conversion_csv = \"../data/raw/conversion_data_train.csv\"\n",
    "conversion_df_raw = pd.read_csv(conversion_csv)\n",
    "conversion_df = conversion_df_raw.copy()\n",
    "\n",
    "print('Set with labels (our train+test) :', conversion_df.shape)"
   ]
  },
  {
   "cell_type": "markdown",
   "metadata": {},
   "source": [
    "## EDA"
   ]
  },
  {
   "cell_type": "markdown",
   "metadata": {},
   "source": [
    "#### General statistics"
   ]
  },
  {
   "cell_type": "code",
   "execution_count": 64,
   "metadata": {},
   "outputs": [
    {
     "name": "stdout",
     "output_type": "stream",
     "text": [
      "Number of rows : 284580\n",
      "\n",
      "Display of dataset: \n"
     ]
    },
    {
     "data": {
      "text/html": [
       "<div>\n",
       "<style scoped>\n",
       "    .dataframe tbody tr th:only-of-type {\n",
       "        vertical-align: middle;\n",
       "    }\n",
       "\n",
       "    .dataframe tbody tr th {\n",
       "        vertical-align: top;\n",
       "    }\n",
       "\n",
       "    .dataframe thead th {\n",
       "        text-align: right;\n",
       "    }\n",
       "</style>\n",
       "<table border=\"1\" class=\"dataframe\">\n",
       "  <thead>\n",
       "    <tr style=\"text-align: right;\">\n",
       "      <th></th>\n",
       "      <th>country</th>\n",
       "      <th>age</th>\n",
       "      <th>new_user</th>\n",
       "      <th>source</th>\n",
       "      <th>total_pages_visited</th>\n",
       "      <th>converted</th>\n",
       "    </tr>\n",
       "  </thead>\n",
       "  <tbody>\n",
       "    <tr>\n",
       "      <th>0</th>\n",
       "      <td>China</td>\n",
       "      <td>22</td>\n",
       "      <td>1</td>\n",
       "      <td>Direct</td>\n",
       "      <td>2</td>\n",
       "      <td>0</td>\n",
       "    </tr>\n",
       "    <tr>\n",
       "      <th>1</th>\n",
       "      <td>UK</td>\n",
       "      <td>21</td>\n",
       "      <td>1</td>\n",
       "      <td>Ads</td>\n",
       "      <td>3</td>\n",
       "      <td>0</td>\n",
       "    </tr>\n",
       "    <tr>\n",
       "      <th>2</th>\n",
       "      <td>Germany</td>\n",
       "      <td>20</td>\n",
       "      <td>0</td>\n",
       "      <td>Seo</td>\n",
       "      <td>14</td>\n",
       "      <td>1</td>\n",
       "    </tr>\n",
       "    <tr>\n",
       "      <th>3</th>\n",
       "      <td>US</td>\n",
       "      <td>23</td>\n",
       "      <td>1</td>\n",
       "      <td>Seo</td>\n",
       "      <td>3</td>\n",
       "      <td>0</td>\n",
       "    </tr>\n",
       "    <tr>\n",
       "      <th>4</th>\n",
       "      <td>US</td>\n",
       "      <td>28</td>\n",
       "      <td>1</td>\n",
       "      <td>Direct</td>\n",
       "      <td>3</td>\n",
       "      <td>0</td>\n",
       "    </tr>\n",
       "  </tbody>\n",
       "</table>\n",
       "</div>"
      ],
      "text/plain": [
       "   country  age  new_user  source  total_pages_visited  converted\n",
       "0    China   22         1  Direct                    2          0\n",
       "1       UK   21         1     Ads                    3          0\n",
       "2  Germany   20         0     Seo                   14          1\n",
       "3       US   23         1     Seo                    3          0\n",
       "4       US   28         1  Direct                    3          0"
      ]
     },
     "metadata": {},
     "output_type": "display_data"
    },
    {
     "name": "stdout",
     "output_type": "stream",
     "text": [
      "\n",
      "Basics statistics: \n"
     ]
    },
    {
     "data": {
      "text/html": [
       "<div>\n",
       "<style scoped>\n",
       "    .dataframe tbody tr th:only-of-type {\n",
       "        vertical-align: middle;\n",
       "    }\n",
       "\n",
       "    .dataframe tbody tr th {\n",
       "        vertical-align: top;\n",
       "    }\n",
       "\n",
       "    .dataframe thead th {\n",
       "        text-align: right;\n",
       "    }\n",
       "</style>\n",
       "<table border=\"1\" class=\"dataframe\">\n",
       "  <thead>\n",
       "    <tr style=\"text-align: right;\">\n",
       "      <th></th>\n",
       "      <th>country</th>\n",
       "      <th>age</th>\n",
       "      <th>new_user</th>\n",
       "      <th>source</th>\n",
       "      <th>total_pages_visited</th>\n",
       "      <th>converted</th>\n",
       "    </tr>\n",
       "  </thead>\n",
       "  <tbody>\n",
       "    <tr>\n",
       "      <th>count</th>\n",
       "      <td>284580</td>\n",
       "      <td>284580.000000</td>\n",
       "      <td>284580.000000</td>\n",
       "      <td>284580</td>\n",
       "      <td>284580.000000</td>\n",
       "      <td>284580.000000</td>\n",
       "    </tr>\n",
       "    <tr>\n",
       "      <th>unique</th>\n",
       "      <td>4</td>\n",
       "      <td>NaN</td>\n",
       "      <td>NaN</td>\n",
       "      <td>3</td>\n",
       "      <td>NaN</td>\n",
       "      <td>NaN</td>\n",
       "    </tr>\n",
       "    <tr>\n",
       "      <th>top</th>\n",
       "      <td>US</td>\n",
       "      <td>NaN</td>\n",
       "      <td>NaN</td>\n",
       "      <td>Seo</td>\n",
       "      <td>NaN</td>\n",
       "      <td>NaN</td>\n",
       "    </tr>\n",
       "    <tr>\n",
       "      <th>freq</th>\n",
       "      <td>160124</td>\n",
       "      <td>NaN</td>\n",
       "      <td>NaN</td>\n",
       "      <td>139477</td>\n",
       "      <td>NaN</td>\n",
       "      <td>NaN</td>\n",
       "    </tr>\n",
       "    <tr>\n",
       "      <th>mean</th>\n",
       "      <td>NaN</td>\n",
       "      <td>30.564203</td>\n",
       "      <td>0.685452</td>\n",
       "      <td>NaN</td>\n",
       "      <td>4.873252</td>\n",
       "      <td>0.032258</td>\n",
       "    </tr>\n",
       "    <tr>\n",
       "      <th>std</th>\n",
       "      <td>NaN</td>\n",
       "      <td>8.266789</td>\n",
       "      <td>0.464336</td>\n",
       "      <td>NaN</td>\n",
       "      <td>3.341995</td>\n",
       "      <td>0.176685</td>\n",
       "    </tr>\n",
       "    <tr>\n",
       "      <th>min</th>\n",
       "      <td>NaN</td>\n",
       "      <td>17.000000</td>\n",
       "      <td>0.000000</td>\n",
       "      <td>NaN</td>\n",
       "      <td>1.000000</td>\n",
       "      <td>0.000000</td>\n",
       "    </tr>\n",
       "    <tr>\n",
       "      <th>25%</th>\n",
       "      <td>NaN</td>\n",
       "      <td>24.000000</td>\n",
       "      <td>0.000000</td>\n",
       "      <td>NaN</td>\n",
       "      <td>2.000000</td>\n",
       "      <td>0.000000</td>\n",
       "    </tr>\n",
       "    <tr>\n",
       "      <th>50%</th>\n",
       "      <td>NaN</td>\n",
       "      <td>30.000000</td>\n",
       "      <td>1.000000</td>\n",
       "      <td>NaN</td>\n",
       "      <td>4.000000</td>\n",
       "      <td>0.000000</td>\n",
       "    </tr>\n",
       "    <tr>\n",
       "      <th>75%</th>\n",
       "      <td>NaN</td>\n",
       "      <td>36.000000</td>\n",
       "      <td>1.000000</td>\n",
       "      <td>NaN</td>\n",
       "      <td>7.000000</td>\n",
       "      <td>0.000000</td>\n",
       "    </tr>\n",
       "    <tr>\n",
       "      <th>max</th>\n",
       "      <td>NaN</td>\n",
       "      <td>123.000000</td>\n",
       "      <td>1.000000</td>\n",
       "      <td>NaN</td>\n",
       "      <td>29.000000</td>\n",
       "      <td>1.000000</td>\n",
       "    </tr>\n",
       "  </tbody>\n",
       "</table>\n",
       "</div>"
      ],
      "text/plain": [
       "       country            age       new_user  source  total_pages_visited  \\\n",
       "count   284580  284580.000000  284580.000000  284580        284580.000000   \n",
       "unique       4            NaN            NaN       3                  NaN   \n",
       "top         US            NaN            NaN     Seo                  NaN   \n",
       "freq    160124            NaN            NaN  139477                  NaN   \n",
       "mean       NaN      30.564203       0.685452     NaN             4.873252   \n",
       "std        NaN       8.266789       0.464336     NaN             3.341995   \n",
       "min        NaN      17.000000       0.000000     NaN             1.000000   \n",
       "25%        NaN      24.000000       0.000000     NaN             2.000000   \n",
       "50%        NaN      30.000000       1.000000     NaN             4.000000   \n",
       "75%        NaN      36.000000       1.000000     NaN             7.000000   \n",
       "max        NaN     123.000000       1.000000     NaN            29.000000   \n",
       "\n",
       "            converted  \n",
       "count   284580.000000  \n",
       "unique            NaN  \n",
       "top               NaN  \n",
       "freq              NaN  \n",
       "mean         0.032258  \n",
       "std          0.176685  \n",
       "min          0.000000  \n",
       "25%          0.000000  \n",
       "50%          0.000000  \n",
       "75%          0.000000  \n",
       "max          1.000000  "
      ]
     },
     "metadata": {},
     "output_type": "display_data"
    },
    {
     "name": "stdout",
     "output_type": "stream",
     "text": [
      "\n",
      "General information: \n",
      "<class 'pandas.core.frame.DataFrame'>\n",
      "RangeIndex: 284580 entries, 0 to 284579\n",
      "Data columns (total 6 columns):\n",
      " #   Column               Non-Null Count   Dtype \n",
      "---  ------               --------------   ----- \n",
      " 0   country              284580 non-null  object\n",
      " 1   age                  284580 non-null  int64 \n",
      " 2   new_user             284580 non-null  int64 \n",
      " 3   source               284580 non-null  object\n",
      " 4   total_pages_visited  284580 non-null  int64 \n",
      " 5   converted            284580 non-null  int64 \n",
      "dtypes: int64(4), object(2)\n",
      "memory usage: 13.0+ MB\n"
     ]
    },
    {
     "data": {
      "text/plain": [
       "None"
      ]
     },
     "metadata": {},
     "output_type": "display_data"
    },
    {
     "name": "stdout",
     "output_type": "stream",
     "text": [
      "\n",
      "Percentage of missing values: \n"
     ]
    },
    {
     "data": {
      "text/plain": [
       "country                0.0\n",
       "age                    0.0\n",
       "new_user               0.0\n",
       "source                 0.0\n",
       "total_pages_visited    0.0\n",
       "converted              0.0\n",
       "dtype: float64"
      ]
     },
     "metadata": {},
     "output_type": "display_data"
    }
   ],
   "source": [
    "# helper functions : general_statistics()\n",
    "def general_statistics(df) :\n",
    "    \"\"\" general eda.\n",
    "    \"\"\"\n",
    "\n",
    "    # Basic stats\n",
    "    print(\"Number of rows : {}\".format(df.shape[0]))\n",
    "    print()\n",
    "\n",
    "    print(\"Display of dataset: \")\n",
    "    display(df.head())\n",
    "    print()\n",
    "\n",
    "    print(\"Basics statistics: \")\n",
    "    data_desc = df.describe(include='all')\n",
    "    display(data_desc)\n",
    "    print()\n",
    "\n",
    "    print(\"General information: \")\n",
    "    display(df.info())\n",
    "    print()\n",
    "\n",
    "    print(\"Percentage of missing values: \")\n",
    "    display(100*df.isnull().sum()/df.shape[0])\n",
    "\n",
    "## stats on conversion_df\n",
    "helper.general_statistics(conversion_df)"
   ]
  },
  {
   "cell_type": "markdown",
   "metadata": {},
   "source": [
    "#### Visualizations"
   ]
  },
  {
   "cell_type": "code",
   "execution_count": 65,
   "metadata": {},
   "outputs": [
    {
     "data": {
      "image/png": "[encoded data removed]",
      "text/plain": [
       "<Figure size 432x288 with 1 Axes>"
      ]
     },
     "metadata": {
      "needs_background": "light"
     },
     "output_type": "display_data"
    }
   ],
   "source": [
    "# converted (new_user or not)\n",
    "converted_df = pd.DataFrame(conversion_df.groupby([\"converted\"]).size()).reset_index()\n",
    "converted_df = converted_df.rename(columns={0: \"Users by conversion [0, 1]\", \n",
    "                                            \"converted\" : \"Conversion class\"})     \n",
    "\n",
    "# bar plot by conversion class\n",
    "ax = sns.barplot(x=\"Conversion class\", y=\"Users by conversion [0, 1]\", data=converted_df)"
   ]
  },
  {
   "cell_type": "code",
   "execution_count": 66,
   "metadata": {},
   "outputs": [
    {
     "data": {
      "text/plain": [
       "country  converted\n",
       "China    0             69033\n",
       "         1                89\n",
       "Germany  0             10963\n",
       "         1               730\n",
       "UK       0             41350\n",
       "         1              2291\n",
       "US       0            154054\n",
       "         1              6070\n",
       "dtype: int64"
      ]
     },
     "metadata": {},
     "output_type": "display_data"
    }
   ],
   "source": [
    "# converted by country\n",
    "converted_country_df = conversion_df.groupby([\"country\", \"converted\"]) \\\n",
    "                                    .size()\n",
    "\n",
    "display(converted_country_df)\n"
   ]
  },
  {
   "cell_type": "code",
   "execution_count": 67,
   "metadata": {},
   "outputs": [
    {
     "data": {
      "image/png": "[encoded data removed]",
      "text/plain": [
       "<Figure size 504x504 with 1 Axes>"
      ]
     },
     "metadata": {},
     "output_type": "display_data"
    }
   ],
   "source": [
    "# converted by source\n",
    "# group by source on only converted dataset\n",
    "mask_converted = conversion_df[\"converted\"] == 1\n",
    "converted_source_df = pd.DataFrame(conversion_df[mask_converted].groupby([\"source\"]).size()).reset_index()\n",
    "\n",
    "# rename columns\n",
    "converted_source_df = converted_source_df.rename(columns={0: \"Users converted by source\"})  \n",
    "\n",
    "# change values to percentage\n",
    "converted_source_df[\"Users converted by source\"] = (converted_source_df[\"Users converted by source\"] / converted_source_df[\"Users converted by source\"].sum()) * 100\n",
    "\n",
    "# sort values in descending\n",
    "converted_source_df = converted_source_df.sort_values([\"Users converted by source\"], ascending=False)\n",
    "\n",
    "# pie chart\n",
    "converted_by_source = converted_source_df[\"Users converted by source\"].values\n",
    "names = list(converted_source_df[\"source\"].unique())\n",
    "explode = (0.05,0.02,0)\n",
    "\n",
    "fig, ax = plt.subplots(figsize=(7,7))\n",
    "_ = ax.pie(converted_by_source, labels=names, \n",
    "       autopct=\"%1.1f%%\", \n",
    "       explode=explode, \n",
    "       shadow=False,\n",
    "       startangle=90) #colors=color_palette[:4],\n"
   ]
  },
  {
   "cell_type": "markdown",
   "metadata": {},
   "source": [
    "## Feature engineering\n",
    "> choose variables, \\\n",
    "> split dataset, \\\n",
    "> preprocessing pipeline."
   ]
  },
  {
   "cell_type": "markdown",
   "metadata": {},
   "source": [
    "#### Pandas preprocessing"
   ]
  },
  {
   "cell_type": "code",
   "execution_count": 68,
   "metadata": {},
   "outputs": [
    {
     "name": "stdout",
     "output_type": "stream",
     "text": [
      "Percentage of missing values in dataset: \n"
     ]
    },
    {
     "data": {
      "text/plain": [
       "country                0.0\n",
       "age                    0.0\n",
       "new_user               0.0\n",
       "source                 0.0\n",
       "total_pages_visited    0.0\n",
       "converted              0.0\n",
       "dtype: float64"
      ]
     },
     "metadata": {},
     "output_type": "display_data"
    },
    {
     "name": "stdout",
     "output_type": "stream",
     "text": [
      "No missing values in dataset\n"
     ]
    }
   ],
   "source": [
    "# missing values\n",
    "print(\"Percentage of missing values in dataset: \")\n",
    "display(100*conversion_df.isnull().sum()/conversion_df.shape[0])\n",
    "print(\"No missing values in dataset\")"
   ]
  },
  {
   "cell_type": "code",
   "execution_count": 69,
   "metadata": {},
   "outputs": [
    {
     "data": {
      "text/plain": [
       "Index(['country', 'age', 'new_user', 'source', 'total_pages_visited',\n",
       "       'converted'],\n",
       "      dtype='object')"
      ]
     },
     "metadata": {},
     "output_type": "display_data"
    }
   ],
   "source": [
    "# columns\n",
    "display(conversion_df.columns)"
   ]
  },
  {
   "cell_type": "code",
   "execution_count": 70,
   "metadata": {},
   "outputs": [],
   "source": [
    "# choose features & target\n",
    "features_vars = [\"age\", \"new_user\", \"total_pages_visited\"]\n",
    "target_var = \"converted\""
   ]
  },
  {
   "cell_type": "code",
   "execution_count": 71,
   "metadata": {},
   "outputs": [
    {
     "name": "stdout",
     "output_type": "stream",
     "text": [
      "Separating labels from features...\n",
      "Target\n",
      "0    0\n",
      "1    0\n",
      "2    1\n",
      "3    0\n",
      "4    0\n",
      "Name: converted, dtype: int64\n",
      "\n",
      "Features\n",
      "   age  new_user  total_pages_visited\n",
      "0   22         1                    2\n",
      "1   21         1                    3\n",
      "2   20         0                   14\n",
      "3   23         1                    3\n",
      "4   28         1                    3\n",
      "\n"
     ]
    }
   ],
   "source": [
    "# separate target variable from others\n",
    "Y_df = conversion_df.loc[:,target_var]\n",
    "X_df = conversion_df.loc[:,features_vars]\n",
    "\n",
    "print(\"Separating labels from features...\")\n",
    "print(\"Target\")\n",
    "print(Y_df.head())\n",
    "\n",
    "print(\"\\nFeatures\")\n",
    "print(X_df.head())\n",
    "print()"
   ]
  },
  {
   "cell_type": "code",
   "execution_count": 72,
   "metadata": {},
   "outputs": [
    {
     "name": "stdout",
     "output_type": "stream",
     "text": [
      "Convert pandas DataFrames to numpy arrays...\n",
      "...Done\n",
      "[[22  1  2]\n",
      " [21  1  3]\n",
      " [20  0 14]\n",
      " [23  1  3]\n",
      " [28  1  3]]\n",
      "\n",
      "[0, 0, 1, 0, 0]\n"
     ]
    }
   ],
   "source": [
    "# Convert pandas DataFrames to numpy arrays before using scikit-learn\n",
    "print(\"Convert pandas DataFrames to numpy arrays...\")\n",
    "X = X_df.values\n",
    "Y = Y_df.tolist()\n",
    "print(\"...Done\")\n",
    "print(X[0:5,:])\n",
    "print()\n",
    "print(Y[0:5])"
   ]
  },
  {
   "cell_type": "markdown",
   "metadata": {},
   "source": [
    "#### Sklearn preprocessing"
   ]
  },
  {
   "cell_type": "code",
   "execution_count": 73,
   "metadata": {},
   "outputs": [
    {
     "name": "stdout",
     "output_type": "stream",
     "text": [
      "Dividing into train and test sets...\n",
      "...Done.\n",
      "\n"
     ]
    }
   ],
   "source": [
    "# Divide dataset Train set & Test set \n",
    "print(\"Dividing into train and test sets...\")\n",
    "X_train, X_test, Y_train, Y_test = train_test_split(X, Y, test_size=0.1, random_state=0)\n",
    "print(\"...Done.\")\n",
    "print()"
   ]
  },
  {
   "cell_type": "code",
   "execution_count": 74,
   "metadata": {},
   "outputs": [],
   "source": [
    "# feature cat & num variables\n",
    "# cat & num variables\n",
    "cat_vars = [\"new_user\"]\n",
    "num_vars = [\"age\", \"total_pages_visited\"]"
   ]
  },
  {
   "cell_type": "code",
   "execution_count": 75,
   "metadata": {},
   "outputs": [
    {
     "data": {
      "text/html": [
       "<div>\n",
       "<style scoped>\n",
       "    .dataframe tbody tr th:only-of-type {\n",
       "        vertical-align: middle;\n",
       "    }\n",
       "\n",
       "    .dataframe tbody tr th {\n",
       "        vertical-align: top;\n",
       "    }\n",
       "\n",
       "    .dataframe thead th {\n",
       "        text-align: right;\n",
       "    }\n",
       "</style>\n",
       "<table border=\"1\" class=\"dataframe\">\n",
       "  <thead>\n",
       "    <tr style=\"text-align: right;\">\n",
       "      <th></th>\n",
       "      <th>age</th>\n",
       "      <th>new_user</th>\n",
       "      <th>total_pages_visited</th>\n",
       "    </tr>\n",
       "  </thead>\n",
       "  <tbody>\n",
       "    <tr>\n",
       "      <th>0</th>\n",
       "      <td>22</td>\n",
       "      <td>1</td>\n",
       "      <td>2</td>\n",
       "    </tr>\n",
       "  </tbody>\n",
       "</table>\n",
       "</div>"
      ],
      "text/plain": [
       "   age  new_user  total_pages_visited\n",
       "0   22         1                    2"
      ]
     },
     "execution_count": 75,
     "metadata": {},
     "output_type": "execute_result"
    }
   ],
   "source": [
    "X_df.head(1)"
   ]
  },
  {
   "cell_type": "code",
   "execution_count": 76,
   "metadata": {},
   "outputs": [
    {
     "data": {
      "text/plain": [
       "[0, 2]"
      ]
     },
     "metadata": {},
     "output_type": "display_data"
    },
    {
     "data": {
      "text/plain": [
       "[1]"
      ]
     },
     "metadata": {},
     "output_type": "display_data"
    }
   ],
   "source": [
    "# pipeline categorical & numerical\n",
    "# helper function : var_index\n",
    "# def var_index(df, name) :\n",
    "#     return df.columns.to_list().index(name)\n",
    "\n",
    "# pipeline for numeric features\n",
    "numeric_features = [helper.var_index(X_df, name) for name in num_vars]\n",
    "numeric_transformer = Pipeline(steps=[\n",
    "    ('imputer', SimpleImputer(strategy='median')), # missing values will be replaced by columns' median\n",
    "    ('scaler', StandardScaler())\n",
    "])\n",
    "\n",
    "\n",
    "# Create pipeline for categorical features\n",
    "categorical_features = [helper.var_index(X_df, name) for name in cat_vars]\n",
    "categorical_transformer = Pipeline(\n",
    "    steps=[\n",
    "    ('imputer', SimpleImputer(strategy='most_frequent')), # missing values will be replaced by most frequent value\n",
    "    ('encoder', OneHotEncoder(drop='first')) # first column will be dropped to avoid creating correlations between features\n",
    "    ])\n",
    "\n",
    "\n",
    "display(numeric_features)\n",
    "display(categorical_features)"
   ]
  },
  {
   "cell_type": "code",
   "execution_count": 77,
   "metadata": {},
   "outputs": [],
   "source": [
    "# preprocessor\n",
    "preprocessor = ColumnTransformer(\n",
    "    transformers=[\n",
    "        ('num', numeric_transformer, numeric_features),\n",
    "        ('cat', categorical_transformer, categorical_features)\n",
    "    ])"
   ]
  },
  {
   "cell_type": "code",
   "execution_count": 78,
   "metadata": {},
   "outputs": [
    {
     "name": "stdout",
     "output_type": "stream",
     "text": [
      "Performing preprocessings on train set...\n",
      "[[23  0  4]\n",
      " [25  1  8]\n",
      " [32  1  2]\n",
      " [37  1  3]\n",
      " [24  1  4]]\n",
      "...Done.\n",
      "[[-0.91516278 -0.26070136  0.        ]\n",
      " [-0.67320988  0.93728655  1.        ]\n",
      " [ 0.17362526 -0.85969532  1.        ]\n",
      " [ 0.7785075  -0.56019834  1.        ]\n",
      " [-0.79418633 -0.26070136  1.        ]]\n",
      "\n",
      "Performing preprocessings on test set...\n",
      "[[20  1  7]\n",
      " [31  1  5]\n",
      " [28  0  4]\n",
      " [25  1  4]\n",
      " [44  0  7]]\n",
      "...Done.\n",
      "[[-1.27809213  0.63778957  1.        ]\n",
      " [ 0.05264881  0.03879562  1.        ]\n",
      " [-0.31028053 -0.26070136  0.        ]\n",
      " [-0.67320988 -0.26070136  1.        ]\n",
      " [ 1.62534265  0.63778957  0.        ]]\n",
      "\n"
     ]
    }
   ],
   "source": [
    "# Preprocessings on train set\n",
    "print(\"Performing preprocessings on train set...\")\n",
    "print(X_train[0:5,:])\n",
    "X_train = preprocessor.fit_transform(X_train)\n",
    "print('...Done.')\n",
    "print(X_train[0:5,:])\n",
    "print()\n",
    "\n",
    "# Preprocessings on test set\n",
    "print(\"Performing preprocessings on test set...\")\n",
    "print(X_test[0:5,:])\n",
    "X_test = preprocessor.transform(X_test) \n",
    "print('...Done.')\n",
    "print(X_test[0:5,:])\n",
    "print()"
   ]
  },
  {
   "cell_type": "markdown",
   "metadata": {},
   "source": [
    "## Modelling\n",
    "> Model 1 : Logistic regression \\\n",
    "> Model 2 : Random forest."
   ]
  },
  {
   "cell_type": "markdown",
   "metadata": {},
   "source": [
    "#### Model 1 : LogisticRegression()"
   ]
  },
  {
   "cell_type": "code",
   "execution_count": 79,
   "metadata": {},
   "outputs": [
    {
     "name": "stdout",
     "output_type": "stream",
     "text": [
      "train_model()\n",
      "trained LogisticRegression model !\n",
      "\n",
      "load_model()\n"
     ]
    },
    {
     "data": {
      "text/plain": [
       "LogisticRegression()"
      ]
     },
     "metadata": {},
     "output_type": "display_data"
    },
    {
     "name": "stdout",
     "output_type": "stream",
     "text": [
      "\n",
      "prediction()\n",
      "predictions on Training set...\n",
      "[0 0 0 ... 0 0 0]\n",
      "\n",
      "predictions on Test set...\n",
      "[0 0 0 ... 0 0 0]\n",
      "\n",
      "\n",
      "performance()\n",
      "f1-score on train set :  0.742210404308993\n",
      "f1-score on test set :  0.7436652916912198\n",
      "\n",
      "confusion_matrix()\n",
      "confusion matrix on train set : \n",
      "[[246898   1001]\n",
      " [  2780   5443]]\n",
      "confusion matrix on test set : \n",
      "[[27392   109]\n",
      " [  326   631]]\n",
      "\n"
     ]
    }
   ],
   "source": [
    "# train model\n",
    "print(\"train_model()\")\n",
    "model_name = \"LogisticRegression\"\n",
    "model_abs_name = helper.train_model(model_name, X_train, Y_train, log=True)\n",
    "print()\n",
    "\n",
    "# load model\n",
    "print(\"load_model()\")\n",
    "classifier = joblib.load(model_abs_name)\n",
    "display(classifier)\n",
    "print()\n",
    "\n",
    "# Predictions\n",
    "print(\"prediction()\")\n",
    "Y_train_pred = helper.prediction(classifier, X_train, step=\"Training\")\n",
    "Y_test_pred = helper.prediction(classifier, X_test, step=\"Test\")\n",
    "print()\n",
    "\n",
    "# Performance\n",
    "print(\"performance()\")\n",
    "f1_train = f1_score(Y_train, Y_train_pred)\n",
    "f1_test = f1_score(Y_test, Y_test_pred)\n",
    "print(\"f1-score on train set : \", f1_train)\n",
    "print(\"f1-score on test set : \", f1_test)\n",
    "print()\n",
    "\n",
    "# Confusion\n",
    "print(\"confusion_matrix()\")\n",
    "confusion_m_train = helper.c_matrix(Y_train, Y_train_pred, log=True, step=\"train\")\n",
    "confusion_m_test = helper.c_matrix(Y_test, Y_test_pred, log=True, step=\"test\")\n",
    "print()"
   ]
  },
  {
   "cell_type": "markdown",
   "metadata": {},
   "source": [
    "### Model 2 : RandomForest()"
   ]
  },
  {
   "cell_type": "code",
   "execution_count": 80,
   "metadata": {},
   "outputs": [
    {
     "name": "stdout",
     "output_type": "stream",
     "text": [
      "train_model()\n",
      "load_model()\n"
     ]
    },
    {
     "data": {
      "text/plain": [
       "RandomForestClassifier(max_depth=6, min_samples_leaf=5, n_estimators=20)"
      ]
     },
     "metadata": {},
     "output_type": "display_data"
    },
    {
     "name": "stdout",
     "output_type": "stream",
     "text": [
      "\n",
      "prediction()\n",
      "predictions on Training set...\n",
      "[0 0 0 ... 0 0 0]\n",
      "\n",
      "predictions on Test set...\n",
      "[0 0 0 ... 0 0 0]\n",
      "\n",
      "\n",
      "performance()\n",
      "f1-score on train set :  0.7446462455950122\n",
      "f1-score on test set :  0.7436950146627564\n",
      "\n",
      "confusion_matrix()\n",
      "confusion matrix on train set : \n",
      "[[246860   1039]\n",
      " [  2729   5494]]\n",
      "confusion matrix on test set : \n",
      "[[27387   114]\n",
      " [  323   634]]\n",
      "\n"
     ]
    }
   ],
   "source": [
    "# train model\n",
    "print(\"train_model()\")\n",
    "train_bool = False\n",
    "\n",
    "model_name = \"RandomForest-GridS\"\n",
    "if train_bool : \n",
    "    params = {\n",
    "                    'max_depth': [2, 4, 6, 8, 10],\n",
    "                    'min_samples_leaf': [1, 2, 5],\n",
    "                    'min_samples_split': [2, 4, 8],\n",
    "                    'n_estimators': [10, 20, 40, 60, 80, 100]\n",
    "                }  \n",
    "    # params = {\n",
    "    #                 'max_depth': [2],\n",
    "    #                 'min_samples_leaf': [1],\n",
    "    #                 'min_samples_split': [2, 4],\n",
    "    #                 'n_estimators': [20, 40]\n",
    "    #             } \n",
    "    model_abs_name = helper.train_model(model_name, X_train, Y_train, log=True, params=params)\n",
    "    print()\n",
    "\n",
    "else : \n",
    "    model_abs_name = f'../data/temp/{model_name}.joblib.pkl'\n",
    "\n",
    "# load model\n",
    "print(\"load_model()\")\n",
    "classifier = joblib.load(model_abs_name)\n",
    "display(classifier)\n",
    "print()\n",
    "\n",
    "# Predictions\n",
    "print(\"prediction()\")\n",
    "Y_train_pred = helper.prediction(classifier, X_train, step=\"Training\")\n",
    "Y_test_pred = helper.prediction(classifier, X_test, step=\"Test\")\n",
    "print()\n",
    "\n",
    "# Performance\n",
    "print(\"performance()\")\n",
    "f1_train = f1_score(Y_train, Y_train_pred)\n",
    "f1_test = f1_score(Y_test, Y_test_pred)\n",
    "print(\"f1-score on train set : \", f1_train)\n",
    "print(\"f1-score on test set : \", f1_test)\n",
    "print()\n",
    "\n",
    "# Confusion\n",
    "print(\"confusion_matrix()\")\n",
    "confusion_m_train = helper.c_matrix(Y_train, Y_train_pred, log=True, step=\"train\")\n",
    "confusion_m_test = helper.c_matrix(Y_test, Y_test_pred, log=True, step=\"test\")\n",
    "print()"
   ]
  },
  {
   "cell_type": "markdown",
   "metadata": {},
   "source": [
    "## Competition (best model)\n",
    "Use our best model, train on all training competition dataset and test on competitor (TA) tetst data."
   ]
  },
  {
   "cell_type": "code",
   "execution_count": 82,
   "metadata": {},
   "outputs": [],
   "source": [
    "# best model\n",
    "best_model_file = \"../data/temp/RandomForest-GridS.joblib.pkl\"\n",
    "best_model_file = \"../data/temp/LogisticRegression.joblib.pkl\"\n",
    "classifier = joblib.load(best_model_file)"
   ]
  },
  {
   "cell_type": "code",
   "execution_count": 83,
   "metadata": {},
   "outputs": [
    {
     "data": {
      "text/plain": [
       "(284580, 3)"
      ]
     },
     "metadata": {},
     "output_type": "display_data"
    }
   ],
   "source": [
    "# Concatenate our train and\n",
    "X = np.append(X_train,X_test,axis=0)\n",
    "Y = np.append(Y_train,Y_test)\n",
    "\n",
    "display(X.shape)"
   ]
  },
  {
   "cell_type": "code",
   "execution_count": 84,
   "metadata": {},
   "outputs": [
    {
     "data": {
      "text/plain": [
       "LogisticRegression()"
      ]
     },
     "execution_count": 84,
     "metadata": {},
     "output_type": "execute_result"
    }
   ],
   "source": [
    "# train model\n",
    "classifier.fit(X,Y)"
   ]
  },
  {
   "cell_type": "code",
   "execution_count": 85,
   "metadata": {},
   "outputs": [
    {
     "name": "stdout",
     "output_type": "stream",
     "text": [
      "Kaggle test dataset : (31620, 5)\n"
     ]
    }
   ],
   "source": [
    "# Q1 test dataset\n",
    "data_without_labels = pd.read_csv('../data/raw/conversion_data_test.csv')\n",
    "print('Kaggle test dataset :', data_without_labels.shape)"
   ]
  },
  {
   "cell_type": "code",
   "execution_count": 86,
   "metadata": {},
   "outputs": [],
   "source": [
    "# Feature engineering\n",
    "# fetch features\n",
    "features_vars = [\"age\", \"new_user\", \"total_pages_visited\"]\n",
    "X_without_labels_df = data_without_labels.loc[:, features_vars]\n",
    "\n",
    "# convert to array (DataFrame)\n",
    "X_without_labels = X_without_labels_df.values\n",
    "\n",
    "# preprocessing\n",
    "X_without_labels = preprocessor.transform(X_without_labels) "
   ]
  },
  {
   "cell_type": "code",
   "execution_count": 87,
   "metadata": {},
   "outputs": [],
   "source": [
    "# prediction\n",
    "data = {\n",
    "    'converted': classifier.predict(X_without_labels)\n",
    "}\n",
    "\n",
    "Y_predictions = pd.DataFrame(columns=['converted'],data=data)\n",
    "Y_predictions.to_csv('../data/shared/conversion_data_test_predictions_mkrouma.csv', index=False)"
   ]
  },
  {
   "cell_type": "code",
   "execution_count": 88,
   "metadata": {},
   "outputs": [
    {
     "data": {
      "text/plain": [
       "array([1, 0])"
      ]
     },
     "execution_count": 88,
     "metadata": {},
     "output_type": "execute_result"
    }
   ],
   "source": [
    "Y_predictions[\"converted\"].unique()"
   ]
  }
 ],
 "metadata": {
  "interpreter": {
   "hash": "860170e22e8d177daa3c518b3be15fe45b7ed832245ad77d1e774b71b49e080f"
  },
  "kernelspec": {
   "display_name": "Python 3.8.3 64-bit ('auth': venv)",
   "language": "python",
   "name": "python3"
  },
  "language_info": {
   "codemirror_mode": {
    "name": "ipython",
    "version": 3
   },
   "file_extension": ".py",
   "mimetype": "text/x-python",
   "name": "python",
   "nbconvert_exporter": "python",
   "pygments_lexer": "ipython3",
   "version": "3.8.3"
  },
  "orig_nbformat": 4
 },
 "nbformat": 4,
 "nbformat_minor": 2
}
