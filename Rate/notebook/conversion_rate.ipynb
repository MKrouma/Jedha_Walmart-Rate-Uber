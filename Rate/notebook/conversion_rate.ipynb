{
 "cells": [
  {
   "cell_type": "markdown",
   "metadata": {},
   "source": [
    "# Conversion Rate Project\n",
    "Analysis conversion rates dataset for business decision need. This project is in jedha certfication #block3\n",
    "\n",
    "Purpose : \n",
    "> rate conversion of user subscription; \\\n",
    "> minimal feature importance; \\\n",
    "> f1-score."
   ]
  },
  {
   "cell_type": "markdown",
   "metadata": {},
   "source": []
  }
 ],
 "metadata": {
  "language_info": {
   "name": "python"
  },
  "orig_nbformat": 4
 },
 "nbformat": 4,
 "nbformat_minor": 2
}
